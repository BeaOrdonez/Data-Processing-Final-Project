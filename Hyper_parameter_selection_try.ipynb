{
  "cells": [
    {
      "cell_type": "markdown",
      "metadata": {
        "id": "3NbwSXzBAdCI"
      },
      "source": [
        "### **4. TRAINING AND EVALUATION OF REGRESSION MODELS**"
      ]
    },
    {
      "cell_type": "markdown",
      "source": [
        "##**Random Forest**"
      ],
      "metadata": {
        "id": "nRoYAkbgBepd"
      }
    },
    {
      "cell_type": "code",
      "source": [
        "from sklearn.ensemble import RandomForestRegressor\n",
        "from sklearn.model_selection import train_test_split\n",
        "from sklearn.metrics import mean_squared_error, r2_score\n",
        "\n",
        "def Random_forest(X,y):\n",
        "\n",
        "    # Train-test split\n",
        "    X_train, X_test, y_train, y_test = train_test_split(X, y, test_size=0.2, random_state=42)\n",
        "\n",
        "\n",
        "    # Train Random Forest\n",
        "    rf_model = RandomForestRegressor()\n",
        "    rf_model.fit(X_train, y_train)\n",
        "\n",
        "    # 9. Hacer predicciones\n",
        "    y_pred = rf_model.predict(X_test)\n",
        "\n",
        "    # 10. Evaluar el modelo\n",
        "    mse = mean_squared_error(y_test, y_pred)\n",
        "    r_score = r2_score(y_test , y_pred)\n",
        "    return(f'Mean Squared Error: {mse}, R² Score:{r_score}')"
      ],
      "metadata": {
        "id": "eSZY3rvlRNpE"
      },
      "execution_count": null,
      "outputs": []
    },
    {
      "cell_type": "markdown",
      "source": [
        "PRUEBA"
      ],
      "metadata": {
        "id": "enLVWckDtz1Z"
      }
    },
    {
      "cell_type": "code",
      "source": [
        "from sklearn.ensemble import RandomForestRegressor\n",
        "from sklearn.model_selection import train_test_split\n",
        "from sklearn.metrics import mean_squared_error, r2_score\n",
        "from sklearn.preprocessing import StandardScaler\n",
        "\n",
        "def Random_forest(X,y):\n",
        "\n",
        "    # Train-test split\n",
        "    X_train, X_test, y_train, y_test = train_test_split(X, y, test_size=0.2, random_state=42)\n",
        "    scaler = StandardScaler()\n",
        "    X_train = scaler.fit_transform(X_train)\n",
        "    X_test= scaler.transform(X_test)\n",
        "\n",
        "    # Train Random Forest\n",
        "    rf_model = RandomForestRegressor(max_features=14, n_estimators=101)\n",
        "    rf_model.fit(X_train, y_train)\n",
        "\n",
        "    # 9. Hacer predicciones\n",
        "    y_pred = rf_model.predict(X_test)\n",
        "\n",
        "    # 10. Evaluar el modelo\n",
        "    mse = mean_squared_error(y_test, y_pred)\n",
        "    r_score = r2_score(y_test , y_pred)\n",
        "    return(f'Mean Squared Error: {mse}, R² Score:{r_score}')"
      ],
      "metadata": {
        "id": "nxFyLc1Etfra"
      },
      "execution_count": null,
      "outputs": []
    },
    {
      "cell_type": "code",
      "source": [
        "from sklearn.model_selection import GridSearchCV\n",
        "from sklearn.ensemble import RandomForestRegressor\n",
        "\n",
        "parameters = {'criterion':['squared_error'],                  ##def=squared_error\n",
        "              'max_depth':[None,10],                          ##def=none\n",
        "              'min_samples_split':[2],                        ##def=2\n",
        "              'max_features':[None,14],                       ##def=1\n",
        "              'n_estimators':list(range(1,200,100))\n",
        "              }\n",
        "\n",
        "clf = GridSearchCV(RandomForestRegressor(), parameters, cv=5)\n",
        "clf.fit(X_w2v, dfRatings)\n",
        "print(clf.best_estimator_)"
      ],
      "metadata": {
        "id": "0GxE1rr8uvT5",
        "colab": {
          "base_uri": "https://localhost:8080/"
        },
        "outputId": "b8f3701a-0436-4a4d-da16-372415e68913"
      },
      "execution_count": null,
      "outputs": [
        {
          "output_type": "stream",
          "name": "stdout",
          "text": [
            "RandomForestRegressor(max_features=14, n_estimators=101)\n"
          ]
        }
      ]
    },
    {
      "cell_type": "code",
      "source": [
        "Random_forest(X_w2v,dfRatings)"
      ],
      "metadata": {
        "colab": {
          "base_uri": "https://localhost:8080/",
          "height": 36
        },
        "id": "gG-dvuvbrtjy",
        "outputId": "7e85593a-1d88-4235-d9e4-64190e7e71a1"
      },
      "execution_count": null,
      "outputs": [
        {
          "output_type": "execute_result",
          "data": {
            "text/plain": [
              "'Mean Squared Error: 1.573683657278192, R² Score:0.07363672827233658'"
            ],
            "application/vnd.google.colaboratory.intrinsic+json": {
              "type": "string"
            }
          },
          "metadata": {},
          "execution_count": 27
        }
      ]
    }
  ],
  "metadata": {
    "colab": {
      "provenance": [],
      "gpuType": "T4"
    },
    "kernelspec": {
      "display_name": "Python 3",
      "name": "python3"
    },
    "language_info": {
      "name": "python"
    },
    "accelerator": "GPU"
  },
  "nbformat": 4,
  "nbformat_minor": 0
}